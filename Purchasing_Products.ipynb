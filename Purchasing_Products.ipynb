{
  "nbformat": 4,
  "nbformat_minor": 0,
  "metadata": {
    "colab": {
      "name": "Purchasing_Products.ipynb",
      "provenance": [],
      "collapsed_sections": [],
      "authorship_tag": "ABX9TyOJDVWQ0ODhgPn4MWfDHGfd",
      "include_colab_link": true
    },
    "kernelspec": {
      "name": "python3",
      "display_name": "Python 3"
    },
    "language_info": {
      "name": "python"
    }
  },
  "cells": [
    {
      "cell_type": "markdown",
      "metadata": {
        "id": "view-in-github",
        "colab_type": "text"
      },
      "source": [
        "<a href=\"https://colab.research.google.com/github/thejanit/test/blob/new/Purchasing_Products.ipynb\" target=\"_parent\"><img src=\"https://colab.research.google.com/assets/colab-badge.svg\" alt=\"Open In Colab\"/></a>"
      ]
    },
    {
      "cell_type": "markdown",
      "metadata": {
        "id": "7ErhRYUlwAX6"
      },
      "source": [
        "**Reading Records.json/ Inventory**"
      ]
    },
    {
      "cell_type": "code",
      "metadata": {
        "id": "1C8g03u1uf9t",
        "colab": {
          "base_uri": "https://localhost:8080/"
        },
        "outputId": "12be8866-53de-4d12-86b9-c4f4d36958fd"
      },
      "source": [
        "import json\n",
        "\n",
        "with open('Records.json', 'r') as fp:\n",
        "  data = json.load(fp)\n",
        "\n",
        "data"
      ],
      "execution_count": 135,
      "outputs": [
        {
          "output_type": "execute_result",
          "data": {
            "text/plain": [
              "{'1001': {'Category': 'Food', 'Name': 'Rice', 'Price': 35, 'Qty': 235},\n",
              " '1002': {'Category': 'Snacks', 'Name': 'Burger', 'Price': 25, 'Qty': 76},\n",
              " '1003': {'Category': 'Drinks', 'Name': 'Lime Juice', 'Price': 20, 'Qty': 46},\n",
              " '1004': {'Category': 'Drinks', 'Name': 'Coke', 'Price': 30, 'Qty': 35},\n",
              " '1005': {'Category': 'Food', 'Name': 'Pulses', 'Price': 39, 'Qty': 191},\n",
              " '1006': {'Category': 'Snacks', 'Name': 'Pizza', 'Price': 99, 'Qty': 142},\n",
              " '1007': {'Category': 'Snacks', 'Name': 'Pastry', 'Price': 45, 'Qty': 70},\n",
              " '1008': {'Category': 'Drinks', 'Name': 'Dew', 'Price': 35, 'Qty': 15},\n",
              " '1009': {'Category': 'Drinks', 'Name': 'Frooti', 'Price': 45, 'Qty': 85},\n",
              " '1010': {'Category': 'Technology',\n",
              "  'Name': 'Laptop',\n",
              "  'Price': 76500,\n",
              "  'Qty': 78},\n",
              " '1011': {'Category': 'Technology', 'Name': 'PC', 'Price': 45909, 'Qty': 38},\n",
              " '1012': {'Category': 'Technology',\n",
              "  'Name': 'Mobile',\n",
              "  'Price': 1999,\n",
              "  'Qty': 104},\n",
              " '1013': {'Category': 'Technology', 'Name': 'Mouse', 'Price': 159, 'Qty': 213},\n",
              " '1014': {'Category': 'Technology',\n",
              "  'Name': 'Charger',\n",
              "  'Price': 139,\n",
              "  'Qty': 167},\n",
              " '1015': {'Category': 'Technology',\n",
              "  'Name': 'Data Card',\n",
              "  'Price': 800,\n",
              "  'Qty': 11},\n",
              " '1016': {'Category': 'Technology',\n",
              "  'Name': 'Earphones',\n",
              "  'Price': 1599,\n",
              "  'Qty': 105},\n",
              " '1017': {'Category': 'Technology',\n",
              "  'Name': 'Keyboard',\n",
              "  'Price': 799,\n",
              "  'Qty': 210},\n",
              " '1018': {'Category': 'Accessories',\n",
              "  'Name': 'Wallet',\n",
              "  'Price': 110,\n",
              "  'Qty': 50},\n",
              " '1019': {'Category': 'Accessories',\n",
              "  'Name': 'Goggles',\n",
              "  'Price': 499,\n",
              "  'Qty': 70},\n",
              " '1020': {'Category': 'Accessories',\n",
              "  'Name': 'Wrist Watch',\n",
              "  'Price': 1899,\n",
              "  'Qty': 141},\n",
              " '1021': {'Category': 'Accessories', 'Name': 'Cable', 'Price': 30, 'Qty': 39},\n",
              " '1022': {'Category': 'Medicine',\n",
              "  'Name': 'Paracetamol',\n",
              "  'Price': 15,\n",
              "  'Qty': 45},\n",
              " '1023': {'Category': 'Medicine',\n",
              "  'Name': 'ImmunoDoz',\n",
              "  'Price': 150,\n",
              "  'Qty': 76},\n",
              " '1024': {'Category': 'Clothes', 'Name': 'Jeans', 'Price': 899, 'Qty': 215},\n",
              " '1025': {'Category': 'Medicine', 'Name': 'Zinc30', 'Price': 35, 'Qty': 350},\n",
              " '1026': {'Category': 'Clothes', 'Name': 'T-Shirts', 'Price': 499, 'Qty': 156},\n",
              " '1027': {'Category': 'Clothes', 'Name': 'Shirt', 'Price': 799, 'Qty': 79},\n",
              " '1028': {'Category': 'Clothes', 'Name': 'Shorts', 'Price': 199, 'Qty': 85},\n",
              " '1029': {'Category': 'Snacks', 'Name': 'Biscuit', 'Price': 10, 'Qty': 109},\n",
              " '1030': {'Category': 'Snacks', 'Name': 'Cake', 'Price': 340, 'Qty': 74},\n",
              " '30': 2,\n",
              " '31': 2,\n",
              " '32': 2,\n",
              " '33': 2,\n",
              " '34': 2}"
            ]
          },
          "metadata": {},
          "execution_count": 135
        }
      ]
    },
    {
      "cell_type": "markdown",
      "metadata": {
        "id": "Y16x1yt7wLbN"
      },
      "source": [
        "**Purchasing System**"
      ]
    },
    {
      "cell_type": "code",
      "metadata": {
        "id": "Vpt7vyFIv6-t",
        "colab": {
          "base_uri": "https://localhost:8080/"
        },
        "outputId": "f95dc07f-aca7-4a30-d4c4-cf1fbb54e470"
      },
      "source": [
        "# Taking Input from Customer - ID and Quantity\n",
        "id_prod = input(\"Enter the ID of the product which you want to buy: \")\n",
        "qty_prod = int(input(\"Enter how much quantity you want to buy: \"))\n",
        "\n",
        "# Checking the Ordered ID exists or Not in Inventory.\n",
        "# If ID exists...\n",
        "if id_prod in data.keys():\n",
        "  \n",
        "  # Checking the Ordered Quantitiy is greater or lesser than Inventory having.\n",
        "  # If Greater...\n",
        "  if qty_prod > data[id_prod]['Qty']:\n",
        "    print(\"#########################################\")\n",
        "    print(f'{qty_prod} is too much !!! SORRY !!!')\n",
        "\n",
        "  # If Lesser...  \n",
        "  else:\n",
        "    print(\"||||||||||||||||||||||||||||||||||||||||||||||||||\")\n",
        "    print(\"Your Product is: \", data[id_prod]['Name'])\n",
        "    print(\"Price of Product: Rs.\", data[id_prod]['Price'])\n",
        "    print(\"Total Billing Amount: Rs.\", data[id_prod]['Price'] * qty_prod)\n",
        "\n",
        "    # Reducing Quantity after purchasing done\n",
        "    data[id_prod]['Qty'] = data[id_prod]['Qty'] - qty_prod\n",
        "\n",
        "# If ID not exists...\n",
        "else:\n",
        "  print(\"###########################################\")\n",
        "  print(f'!! SORRY !! {id_prod} ID is not exists in Inventory. Please try different one !!')\n",
        "\n",
        "\n",
        "# Updating Inventory after Purchasing\n",
        "rec = json.dumps(data)\n",
        "\n",
        "with open('Records.json', 'w') as fpw:\n",
        "  fpw.write(rec)\n"
      ],
      "execution_count": 132,
      "outputs": [
        {
          "output_type": "stream",
          "name": "stdout",
          "text": [
            "Enter the ID of the product which you want to buy: 1030\n",
            "Enter how much quantity you want to buy: 15\n",
            "||||||||||||||||||||||||||||||||||||||||||||||||||\n",
            "Your Product is:  Cake\n",
            "Price of Product: Rs. 340\n",
            "Total Billing Amount: Rs. 5100\n"
          ]
        }
      ]
    },
    {
      "cell_type": "markdown",
      "metadata": {
        "id": "5EQl4LK0pqDH"
      },
      "source": [
        "**Creating Sales.json File from Scratch**"
      ]
    },
    {
      "cell_type": "code",
      "metadata": {
        "colab": {
          "base_uri": "https://localhost:8080/"
        },
        "id": "OiFh-fqIgVOo",
        "outputId": "cbcf5faa-7ade-43bf-a6e1-4d6cf54509d1"
      },
      "source": [
        "# Addding Time Info..\n",
        "import time\n",
        "t = time.ctime()\n",
        "\n",
        "print(t)\n"
      ],
      "execution_count": 91,
      "outputs": [
        {
          "output_type": "stream",
          "name": "stdout",
          "text": [
            "Sun Sep  5 15:58:03 2021\n"
          ]
        }
      ]
    },
    {
      "cell_type": "code",
      "metadata": {
        "colab": {
          "base_uri": "https://localhost:8080/"
        },
        "id": "jZeAr8FNlVeE",
        "outputId": "88e3f812-21e7-480b-8152-5828923d388d"
      },
      "source": [
        "sales[int(input())] = {'Id' : id_prod, 'Name' : data[id_prod]['Name'], 'Qty' : qty_prod, 'Price' : data[id_prod]['Price'], 'Amount' : data[id_prod]['Price'] * qty_prod, 'time' : t }\n",
        "\n",
        "sale = json.dumps(sales)\n",
        "\n",
        "# Writing sales into Sales.json\n",
        "with open('Sales.json', 'w') as fs:\n",
        "  fs.write(sale)\n"
      ],
      "execution_count": 133,
      "outputs": [
        {
          "name": "stdout",
          "output_type": "stream",
          "text": [
            "21\n"
          ]
        }
      ]
    },
    {
      "cell_type": "code",
      "metadata": {
        "colab": {
          "base_uri": "https://localhost:8080/"
        },
        "id": "7e5l0yAQspoQ",
        "outputId": "0ef8ffcb-2bc1-4823-c56d-44cc3e94150f"
      },
      "source": [
        "# Reading Sales.json file\n",
        "with open('Sales.json', 'r') as fsr:\n",
        "  transaction = json.load(fsr)\n",
        "\n",
        "transaction"
      ],
      "execution_count": 134,
      "outputs": [
        {
          "output_type": "execute_result",
          "data": {
            "text/plain": [
              "{'1': {'Amount': 1710,\n",
              "  'Id': '1021',\n",
              "  'Name': 'Cable',\n",
              "  'Price': 30,\n",
              "  'Qty': 57,\n",
              "  'time': 'Sun Sep  5 15:58:03 2021'},\n",
              " '10': {'Amount': 1620,\n",
              "  'Id': '1004',\n",
              "  'Name': 'Coke',\n",
              "  'Price': 30,\n",
              "  'Qty': 54,\n",
              "  'time': 'Sun Sep  5 15:58:03 2021'},\n",
              " '11': {'Amount': 12935,\n",
              "  'Id': '1028',\n",
              "  'Name': 'Shorts',\n",
              "  'Price': 199,\n",
              "  'Qty': 65,\n",
              "  'time': 'Sun Sep  5 15:58:03 2021'},\n",
              " '12': {'Amount': 3902265,\n",
              "  'Id': '1011',\n",
              "  'Name': 'PC',\n",
              "  'Price': 45909,\n",
              "  'Qty': 85,\n",
              "  'time': 'Sun Sep  5 15:58:03 2021'},\n",
              " '13': {'Amount': 420,\n",
              "  'Id': '1021',\n",
              "  'Name': 'Cable',\n",
              "  'Price': 30,\n",
              "  'Qty': 14,\n",
              "  'time': 'Sun Sep  5 15:58:03 2021'},\n",
              " '14': {'Amount': 1820,\n",
              "  'Id': '1008',\n",
              "  'Name': 'Dew',\n",
              "  'Price': 35,\n",
              "  'Qty': 52,\n",
              "  'time': 'Sun Sep  5 15:58:03 2021'},\n",
              " '15': {'Amount': 27944,\n",
              "  'Id': '1026',\n",
              "  'Name': 'T-Shirts',\n",
              "  'Price': 499,\n",
              "  'Qty': 56,\n",
              "  'time': 'Sun Sep  5 15:58:03 2021'},\n",
              " '16': {'Amount': 95880,\n",
              "  'Id': '1027',\n",
              "  'Name': 'Shirt',\n",
              "  'Price': 799,\n",
              "  'Qty': 120,\n",
              "  'time': 'Sun Sep  5 15:58:03 2021'},\n",
              " '17': {'Amount': 9980,\n",
              "  'Id': '1019',\n",
              "  'Name': 'Goggles',\n",
              "  'Price': 499,\n",
              "  'Qty': 20,\n",
              "  'time': 'Sun Sep  5 15:58:03 2021'},\n",
              " '18': {'Amount': 160,\n",
              "  'Id': '1029',\n",
              "  'Name': 'Biscuit',\n",
              "  'Price': 10,\n",
              "  'Qty': 16,\n",
              "  'time': 'Sun Sep  5 15:58:03 2021'},\n",
              " '19': {'Amount': 86346,\n",
              "  'Id': '1016',\n",
              "  'Name': 'Earphones',\n",
              "  'Price': 1599,\n",
              "  'Qty': 54,\n",
              "  'time': 'Sun Sep  5 15:58:03 2021'},\n",
              " '2': {'Amount': 7596,\n",
              "  'Id': '1020',\n",
              "  'Name': 'Wrist Watch',\n",
              "  'Price': 1899,\n",
              "  'Qty': 4,\n",
              "  'time': 'Sun Sep  5 15:09:00 2021'},\n",
              " '20': {'Amount': 22890,\n",
              "  'Id': '1001',\n",
              "  'Name': 'Rice',\n",
              "  'Price': 35,\n",
              "  'Qty': 654,\n",
              "  'time': 'Sun Sep  5 15:58:03 2021'},\n",
              " '21': {'Amount': 5100,\n",
              "  'Id': '1030',\n",
              "  'Name': 'Cake',\n",
              "  'Price': 340,\n",
              "  'Qty': 15,\n",
              "  'time': 'Sun Sep  5 15:58:03 2021'},\n",
              " '3': {'Amount': 43200,\n",
              "  'Id': '1015',\n",
              "  'Name': 'Data Card',\n",
              "  'Price': 800,\n",
              "  'Qty': 54,\n",
              "  'time': 'Sun Sep  5 15:29:48 2021'},\n",
              " '4': {'Amount': 7996,\n",
              "  'Id': '1012',\n",
              "  'Name': 'Mobile',\n",
              "  'Price': 1999,\n",
              "  'Qty': 4,\n",
              "  'time': 'Sun Sep  5 15:29:48 2021'},\n",
              " '5': {'Amount': 2100,\n",
              "  'Id': '1023',\n",
              "  'Name': 'ImmunoDoz',\n",
              "  'Price': 150,\n",
              "  'Qty': 14,\n",
              "  'time': 'Sun Sep  5 15:29:48 2021'},\n",
              " '6': {'Amount': 300,\n",
              "  'Id': '1002',\n",
              "  'Name': 'Burger',\n",
              "  'Price': 25,\n",
              "  'Qty': 12,\n",
              "  'time': 'Sun Sep  5 15:29:48 2021'},\n",
              " '7': {'Amount': 1600,\n",
              "  'Id': '1015',\n",
              "  'Name': 'Data Card',\n",
              "  'Price': 800,\n",
              "  'Qty': 2,\n",
              "  'time': 'Sun Sep  5 15:29:48 2021'},\n",
              " '8': {'Amount': 6750,\n",
              "  'Id': '1023',\n",
              "  'Name': 'ImmunoDoz',\n",
              "  'Price': 150,\n",
              "  'Qty': 45,\n",
              "  'time': 'Sun Sep  5 15:58:03 2021'},\n",
              " '9': {'Amount': 4448,\n",
              "  'Id': '1014',\n",
              "  'Name': 'Charger',\n",
              "  'Price': 139,\n",
              "  'Qty': 32,\n",
              "  'time': 'Sun Sep  5 15:58:03 2021'}}"
            ]
          },
          "metadata": {},
          "execution_count": 134
        }
      ]
    }
  ]
}